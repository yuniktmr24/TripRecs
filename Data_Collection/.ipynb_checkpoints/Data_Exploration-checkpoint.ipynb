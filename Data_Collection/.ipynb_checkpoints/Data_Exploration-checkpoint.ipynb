{
 "cells": [
  {
   "cell_type": "code",
   "execution_count": 9,
   "id": "6ccb7dec-ca33-486c-aa96-7ca33bc443a5",
   "metadata": {},
   "outputs": [
    {
     "name": "stdout",
     "output_type": "stream",
     "text": [
      "                       id                                                url  \\\n",
      "0        6e158a47eb2ca3f6  https://upload.wikimedia.org/wikipedia/commons...   \n",
      "1        202cd79556f30760  http://upload.wikimedia.org/wikipedia/commons/...   \n",
      "2        3ad87684c99c06e1  http://upload.wikimedia.org/wikipedia/commons/...   \n",
      "3        e7f70e9c61e66af3  https://upload.wikimedia.org/wikipedia/commons...   \n",
      "4        4072182eddd0100e  https://upload.wikimedia.org/wikipedia/commons...   \n",
      "...                   ...                                                ...   \n",
      "4132909  fc0f007893b11ba7  https://upload.wikimedia.org/wikipedia/commons...   \n",
      "4132910  39aad18585867916  https://upload.wikimedia.org/wikipedia/commons...   \n",
      "4132911  fd0725460e4ebbec  https://upload.wikimedia.org/wikipedia/commons...   \n",
      "4132912  73691ae29e24ba19  https://upload.wikimedia.org/wikipedia/commons...   \n",
      "4132913  8ef8dff6fc4790c2  https://upload.wikimedia.org/wikipedia/commons...   \n",
      "\n",
      "         landmark_id  \n",
      "0             142820  \n",
      "1             104169  \n",
      "2              37914  \n",
      "3             102140  \n",
      "4               2474  \n",
      "...              ...  \n",
      "4132909       172138  \n",
      "4132910       162860  \n",
      "4132911       191243  \n",
      "4132912       145760  \n",
      "4132913        34698  \n",
      "\n",
      "[4132914 rows x 3 columns]\n"
     ]
    }
   ],
   "source": [
    "import pandas as pd\n",
    "\n",
    "# Set option to display all columns (None means unlimited)\n",
    "pd.set_option('display.max_columns', None)\n",
    "\n",
    "# Read the CSV file\n",
    "df_train = pd.read_csv('train.csv')\n",
    "\n",
    "# Display the DataFrame\n",
    "print(df_train)\n"
   ]
  },
  {
   "cell_type": "markdown",
   "id": "aef9954f-ad84-4659-adcd-8a549508b480",
   "metadata": {},
   "source": [
    "### Ranking Landmark IDs for train"
   ]
  },
  {
   "cell_type": "code",
   "execution_count": 13,
   "id": "c772280f-dc52-45ab-80f9-a451e05e0228",
   "metadata": {},
   "outputs": [
    {
     "name": "stdout",
     "output_type": "stream",
     "text": [
      "landmark_id\n",
      "138982    10247\n",
      "62798      4333\n",
      "177870     3327\n",
      "176528     3243\n",
      "192931     2627\n",
      "126637     2589\n",
      "83144      2351\n",
      "171772     2268\n",
      "20409      2248\n",
      "151942     1727\n",
      "84689      1721\n",
      "139894     1717\n",
      "62074      1637\n",
      "10618      1539\n",
      "45428      1513\n",
      "139706     1509\n",
      "41808      1509\n",
      "60532      1447\n",
      "161902     1424\n",
      "194914     1399\n",
      "Name: count, dtype: int64\n"
     ]
    }
   ],
   "source": [
    "\n",
    "# Count the occurrences of each supercategory and sort them\n",
    "landmark_id_counts = df_train['landmark_id'].value_counts()\n",
    "\n",
    "# Display the ranked supercategories\n",
    "print(landmark_id_counts.head(20))\n"
   ]
  },
  {
   "cell_type": "markdown",
   "id": "d75babf5-f15b-4e2e-9298-234df2005409",
   "metadata": {},
   "source": [
    "### Exploratory analytics on the train label dataset"
   ]
  },
  {
   "cell_type": "code",
   "execution_count": 11,
   "id": "b9043162-c668-4e9a-b666-546236830cf6",
   "metadata": {},
   "outputs": [
    {
     "name": "stdout",
     "output_type": "stream",
     "text": [
      "        landmark_id                                           category  \\\n",
      "0                 0  http://commons.wikimedia.org/wiki/Category:Hap...   \n",
      "1                 1  http://commons.wikimedia.org/wiki/Category:Lui...   \n",
      "2                 2  http://commons.wikimedia.org/wiki/Category:Gra...   \n",
      "3                 5  http://commons.wikimedia.org/wiki/Category:Lak...   \n",
      "4                 7  http://commons.wikimedia.org/wiki/Category:Spa...   \n",
      "...             ...                                                ...   \n",
      "128837       203087  http://commons.wikimedia.org/wiki/Category:Jac...   \n",
      "128838       203090  http://commons.wikimedia.org/wiki/Category:Mar...   \n",
      "128839       203091  http://commons.wikimedia.org/wiki/Category:Sil...   \n",
      "128840       203092  http://commons.wikimedia.org/wiki/Category:Hoa_Lu   \n",
      "128841       203093  http://commons.wikimedia.org/wiki/Category:Sto...   \n",
      "\n",
      "                   supercategory hierarchical_label natural_or_human_made  \n",
      "0             horse racing venue       sports venue            human-made  \n",
      "1                           park              parks               natural  \n",
      "2                       mountain           mountain               natural  \n",
      "3        motorsport racing track               road            human-made  \n",
      "4             multi-purpose hall                NaN                   NaN  \n",
      "...                          ...                ...                   ...  \n",
      "128837                      park              parks               natural  \n",
      "128838                      lake               lake               natural  \n",
      "128839  landscape park of Poland              parks               natural  \n",
      "128840                      city               city            human-made  \n",
      "128841                    museum             museum            human-made  \n",
      "\n",
      "[128842 rows x 5 columns]\n"
     ]
    }
   ],
   "source": [
    "import pandas as pd\n",
    "\n",
    "# Set option to display all columns (None means unlimited)\n",
    "pd.set_option('display.max_columns', None)\n",
    "\n",
    "# Read the CSV file\n",
    "df_labels = pd.read_csv('train_label_to_hierarchical.csv')\n",
    "\n",
    "# Display the DataFrame\n",
    "print(df_labels)\n"
   ]
  },
  {
   "cell_type": "code",
   "execution_count": 14,
   "id": "1ed4b92d-ce8c-4ecc-8362-f9fad24efade",
   "metadata": {},
   "outputs": [
    {
     "name": "stdout",
     "output_type": "stream",
     "text": [
      "photo library\n"
     ]
    }
   ],
   "source": [
    "\n",
    "filtered_df = df_labels[df_labels['landmark_id'] == 138982]\n",
    "\n",
    "# Extract the supercategory\n",
    "supercategory = filtered_df['supercategory'].iloc[0] if not filtered_df.empty else 'Landmark ID not found'\n",
    "\n",
    "# Display the supercategory\n",
    "print(supercategory)\n"
   ]
  },
  {
   "cell_type": "code",
   "execution_count": 15,
   "id": "5b37289d-4c98-4a26-aecf-37d7985e0128",
   "metadata": {},
   "outputs": [
    {
     "name": "stdout",
     "output_type": "stream",
     "text": [
      "botanical garden\n"
     ]
    }
   ],
   "source": [
    "filtered_df = df_labels[df_labels['landmark_id'] == 62798 ]\n",
    "\n",
    "# Extract the supercategory\n",
    "supercategory = filtered_df['supercategory'].iloc[0] if not filtered_df.empty else 'Landmark ID not found'\n",
    "\n",
    "# Display the supercategory\n",
    "print(supercategory)"
   ]
  },
  {
   "cell_type": "code",
   "execution_count": 16,
   "id": "00ad845a-a059-48e6-b38e-c5e305bca294",
   "metadata": {},
   "outputs": [
    {
     "name": "stdout",
     "output_type": "stream",
     "text": [
      "city of regional significance of Ukraine\n"
     ]
    }
   ],
   "source": [
    "filtered_df = df_labels[df_labels['landmark_id'] == 177870]\n",
    "\n",
    "# Extract the supercategory\n",
    "supercategory = filtered_df['supercategory'].iloc[0] if not filtered_df.empty else 'Landmark ID not found'\n",
    "\n",
    "# Display the supercategory\n",
    "print(supercategory)"
   ]
  },
  {
   "cell_type": "code",
   "execution_count": 17,
   "id": "4e8707da-2ec3-412e-9430-8b74be3ad0d7",
   "metadata": {},
   "outputs": [
    {
     "name": "stdout",
     "output_type": "stream",
     "text": [
      "National Park of the United States\n"
     ]
    }
   ],
   "source": [
    "filtered_df = df_labels[df_labels['landmark_id'] == 176528]\n",
    "\n",
    "# Extract the supercategory\n",
    "supercategory = filtered_df['supercategory'].iloc[0] if not filtered_df.empty else 'Landmark ID not found'\n",
    "\n",
    "# Display the supercategory\n",
    "print(supercategory)"
   ]
  },
  {
   "cell_type": "code",
   "execution_count": 18,
   "id": "3f3ccbf7-6b2a-4b63-ad58-09020b337dda",
   "metadata": {},
   "outputs": [
    {
     "name": "stdout",
     "output_type": "stream",
     "text": [
      "archaeological site\n"
     ]
    }
   ],
   "source": [
    "filtered_df = df_labels[df_labels['landmark_id'] == 192931]\n",
    "\n",
    "# Extract the supercategory\n",
    "supercategory = filtered_df['supercategory'].iloc[0] if not filtered_df.empty else 'Landmark ID not found'\n",
    "\n",
    "# Display the supercategory\n",
    "print(supercategory)\n"
   ]
  },
  {
   "cell_type": "code",
   "execution_count": null,
   "id": "e5799b6b-15c3-4062-88cb-f2f3d18d4d4b",
   "metadata": {},
   "outputs": [],
   "source": []
  },
  {
   "cell_type": "markdown",
   "id": "e434afc3-a351-4303-88de-dc9e846aea72",
   "metadata": {},
   "source": [
    "### Ranking SuperCategories"
   ]
  },
  {
   "cell_type": "code",
   "execution_count": 12,
   "id": "28189c0e-39cd-41d2-940f-22ca86a17892",
   "metadata": {},
   "outputs": [
    {
     "name": "stdout",
     "output_type": "stream",
     "text": [
      "supercategory\n",
      "church building            19832\n",
      "mountain                    6286\n",
      "museum                      3816\n",
      "castle                      3541\n",
      "lake                        2767\n",
      "building                    2461\n",
      "park                        1985\n",
      "château                     1756\n",
      "lighthouse                  1587\n",
      "cemetery                    1489\n",
      "architectural structure     1449\n",
      "island                      1429\n",
      "art museum                  1364\n",
      "house                       1287\n",
      "river                       1194\n",
      "monastery                   1107\n",
      "skyscraper                  1057\n",
      "archaeological site         1031\n",
      "palace                       990\n",
      "parish church                983\n",
      "Name: count, dtype: int64\n"
     ]
    }
   ],
   "source": [
    "\n",
    "# Count the occurrences of each supercategory and sort them\n",
    "supercategory_counts = df_labels['supercategory'].value_counts()\n",
    "\n",
    "# Display the ranked supercategories\n",
    "print(supercategory_counts.head(20))\n"
   ]
  },
  {
   "cell_type": "code",
   "execution_count": 26,
   "id": "bc5517bc-c1ba-4105-b352-e9161852ef2f",
   "metadata": {},
   "outputs": [
    {
     "name": "stdout",
     "output_type": "stream",
     "text": [
      "supercategory\n",
      "church building            19832\n",
      "mountain                    6286\n",
      "museum                      3816\n",
      "castle                      3541\n",
      "lake                        2767\n",
      "building                    2461\n",
      "park                        1985\n",
      "château                     1756\n",
      "lighthouse                  1587\n",
      "cemetery                    1489\n",
      "architectural structure     1449\n",
      "island                      1429\n",
      "art museum                  1364\n",
      "house                       1287\n",
      "river                       1194\n",
      "monastery                   1107\n",
      "skyscraper                  1057\n",
      "archaeological site         1031\n",
      "palace                       990\n",
      "parish church                983\n",
      "Name: count, dtype: int64\n"
     ]
    },
    {
     "data": {
      "image/png": "[encoded data removed]",
      "text/plain": [
       "<Figure size 1000x800 with 1 Axes>"
      ]
     },
     "metadata": {},
     "output_type": "display_data"
    }
   ],
   "source": [
    "import pandas as pd\n",
    "import matplotlib.pyplot as plt\n",
    "\n",
    "# Assuming your DataFrame is already read into 'df_labels'\n",
    "# Read the CSV file (uncomment and modify the path if needed)\n",
    "# df_labels = pd.read_csv('file_path.csv')\n",
    "\n",
    "# Count the occurrences of each supercategory and sort them\n",
    "supercategory_counts = df_labels['supercategory'].value_counts()\n",
    "\n",
    "# Display the ranked supercategories\n",
    "print(supercategory_counts.head(20))\n",
    "\n",
    "# Plotting the top 20 supercategories\n",
    "plt.figure(figsize=(10, 8))  # Adjust the figure size as needed\n",
    "supercategory_counts.head(20).plot(kind='bar', color='skyblue')\n",
    "plt.title('Top 20 Supercategories')\n",
    "plt.xlabel('Supercategory')\n",
    "plt.ylabel('Counts')\n",
    "plt.xticks(rotation=45, ha='right')  # Rotate the x labels for better readability\n",
    "plt.tight_layout()  # Adjust subplots to give some padding\n",
    "plt.show()\n"
   ]
  },
  {
   "cell_type": "markdown",
   "id": "9d901dc3-8d18-4905-9182-10cb5b2ef1e7",
   "metadata": {},
   "source": [
    "### Ranking Heierarchial Labels"
   ]
  },
  {
   "cell_type": "code",
   "execution_count": 19,
   "id": "4593ff23-b4e5-4455-9c0b-5c6a4ef5889c",
   "metadata": {},
   "outputs": [
    {
     "name": "stdout",
     "output_type": "stream",
     "text": [
      "hierarchical_label\n",
      "church                25722\n",
      "parks                  8501\n",
      "mountain               8326\n",
      "castle / fort          7499\n",
      "museum                 7224\n",
      "lake                   4266\n",
      "cemetery               2821\n",
      "sports venue           2761\n",
      "bridge                 2471\n",
      "house                  2442\n",
      "island                 1848\n",
      "lighthouse             1647\n",
      "river                  1409\n",
      "tower                  1390\n",
      "city                   1284\n",
      "monastery              1273\n",
      "palace                 1099\n",
      "archeological site     1071\n",
      "skyscraper             1065\n",
      "theatre                1053\n",
      "Name: count, dtype: int64\n"
     ]
    }
   ],
   "source": [
    "\n",
    "# Count the occurrences of each supercategory and sort them\n",
    "supercategory_counts = df_labels['hierarchical_label'].value_counts()\n",
    "\n",
    "# Display the ranked supercategories\n",
    "print(supercategory_counts.head(20))"
   ]
  },
  {
   "cell_type": "code",
   "execution_count": 25,
   "id": "42b4e3dc-38eb-4638-b1a5-3b0b5f5a7dfe",
   "metadata": {},
   "outputs": [
    {
     "name": "stdout",
     "output_type": "stream",
     "text": [
      "hierarchical_label\n",
      "church                25722\n",
      "parks                  8501\n",
      "mountain               8326\n",
      "castle / fort          7499\n",
      "museum                 7224\n",
      "lake                   4266\n",
      "cemetery               2821\n",
      "sports venue           2761\n",
      "bridge                 2471\n",
      "house                  2442\n",
      "island                 1848\n",
      "lighthouse             1647\n",
      "river                  1409\n",
      "tower                  1390\n",
      "city                   1284\n",
      "monastery              1273\n",
      "palace                 1099\n",
      "archeological site     1071\n",
      "skyscraper             1065\n",
      "theatre                1053\n",
      "Name: count, dtype: int64\n"
     ]
    },
    {
     "data": {
      "image/png": "[encoded data removed]",
      "text/plain": [
       "<Figure size 1000x800 with 1 Axes>"
      ]
     },
     "metadata": {},
     "output_type": "display_data"
    }
   ],
   "source": [
    "import pandas as pd\n",
    "import matplotlib.pyplot as plt\n",
    "\n",
    "# Assuming your DataFrame is already read into 'df_labels'\n",
    "# Read the CSV file (uncomment and modify the path if needed)\n",
    "# df_labels = pd.read_csv('file_path.csv')\n",
    "\n",
    "# Count the occurrences of each hierarchical_label and sort them\n",
    "hierarchical_label_counts = df_labels['hierarchical_label'].value_counts()\n",
    "\n",
    "# Display the ranked hierarchical_labels\n",
    "print(hierarchical_label_counts.head(20))\n",
    "\n",
    "# Plotting the top 20 hierarchical labels\n",
    "plt.figure(figsize=(10, 8))  # Adjust the figure size as needed\n",
    "hierarchical_label_counts.head(20).plot(kind='bar', color='skyblue')\n",
    "plt.title('Top 20 Hierarchical Labels')\n",
    "plt.xlabel('Hierarchical Label')\n",
    "plt.ylabel('Counts')\n",
    "plt.xticks(rotation=45, ha='right')  # Rotate the x labels for better readability\n",
    "plt.tight_layout()  # Adjust subplots to give some padding\n",
    "plt.show()\n"
   ]
  },
  {
   "cell_type": "markdown",
   "id": "bf86b1c1-c49a-4ba1-95fb-15d5ec3ef9f1",
   "metadata": {},
   "source": [
    "### Rankings Based on natural or man made"
   ]
  },
  {
   "cell_type": "code",
   "execution_count": 20,
   "id": "43255401-cf04-4e71-956f-d60ba6711c7c",
   "metadata": {},
   "outputs": [
    {
     "name": "stdout",
     "output_type": "stream",
     "text": [
      "natural_or_human_made\n",
      "human-made    76810\n",
      "natural       28400\n",
      "Name: count, dtype: int64\n"
     ]
    }
   ],
   "source": [
    "\n",
    "\n",
    "# Count the occurrences of each supercategory and sort them\n",
    "supercategory_counts = df_labels['natural_or_human_made'].value_counts()\n",
    "\n",
    "# Display the ranked supercategories\n",
    "print(supercategory_counts.head(20))"
   ]
  },
  {
   "cell_type": "code",
   "execution_count": 24,
   "id": "66307ebe-44cb-45c1-8882-d0ee728a95a2",
   "metadata": {},
   "outputs": [
    {
     "name": "stdout",
     "output_type": "stream",
     "text": [
      "['park' 'protected area' 'national park' 'Washington state park'\n",
      " 'Wisconsin state park' 'nature reserve' 'urban park' 'nature park'\n",
      " 'nature reserve in the Czech Republic' 'Naturschutzgebiet'\n",
      " 'Oregon state park' 'Arizona state park'\n",
      " 'United States National Grassland'\n",
      " 'provincial park of Canada (designation)' 'regional park'\n",
      " 'California state park' 'natural region' 'county park'\n",
      " 'transboundary protected area' 'national park of Canada' 'spa park'\n",
      " 'landscape park of Poland'\n",
      " 'Naturschutzgebiet (Odertal Frankfurt-Lebus mit Pontischen Hängen'\n",
      " 'regional natural park' 'protected area of Ukraine' 'natural monument'\n",
      " 'natural landscape' 'National Park of the United States'\n",
      " 'Florida state park' 'persistent natural fires' 'green space'\n",
      " 'nature reserve in Poland' 'Georgia state park'\n",
      " 'state nature national park of Kyrgyzstan' 'state park' 'wildlife park'\n",
      " 'national nature reserve in the Czech Republic' 'wilderness area'\n",
      " 'natural arch' 'West Virginia state park' 'Maryland state park'\n",
      " 'protected area of the Czech Republic'\n",
      " 'Local park of supra-communal interest'\n",
      " 'tourism office (Jasmund National Park)' 'Indiana state park'\n",
      " 'landscape park' 'conservation area' 'Nationalpark'\n",
      " 'national park of Australia' 'group (Naturschutzgebiet)'\n",
      " 'national nature reserve' 'country park' 'Massachusetts state park'\n",
      " 'Minnesota state park' 'regional nature reserve' 'game reserve'\n",
      " 'New Jersey state park' 'migratory bird sanctuary of Canada'\n",
      " 'Corsican nature reserve (2002–)' 'provincial park of Canada'\n",
      " 'National Wildlife Refuge' 'Special Area of Conservation'\n",
      " 'wildlife management area' 'Nevada state park' 'wildlife refuge'\n",
      " 'Illinois state park' 'biological reserve' 'nature area'\n",
      " 'landscape reserve' 'state park of the United States'\n",
      " 'National Recreation Area' 'international park' 'recreation area'\n",
      " 'biosphere reserve' 'national nature park' 'national park of Brazil'\n",
      " 'National Government Parks' 'Nature reserve' 'biogeographic realm'\n",
      " 'urban park (1983–)' 'New Hampshire state park'\n",
      " 'national park of Madagascar' 'Michigan state park'\n",
      " 'Reserva Natural (Spain)' 'Pennsylvania state park'\n",
      " 'réserve naturelle nationale' 'New York state park'\n",
      " 'national park of Thailand' 'National Park of Canada'\n",
      " 'protected area of Brazil' 'Arkansas state park' 'Louisiana state park'\n",
      " 'national park of Russia' 'ecoregion' 'national reserve of Chile'\n",
      " 'Utah state park' 'Kansas state park' 'Iowa state park'\n",
      " 'biosphere reserve (2009)' \"Riserve naturali regionali d'Italia\"\n",
      " 'Tennessee state park' 'national park of Iran' 'Idaho state park'\n",
      " 'Gateway National Recreation Area' 'Mississippi state park'\n",
      " 'ecological reserve' 'national park of Indonesia'\n",
      " 'National Park of Mexico' 'national park of Quebec'\n",
      " 'national park of Uganda' 'national park of Argentina' 'Ohio state park'\n",
      " \"Riserve naturali statali d'Italia\" 'nature park (1988)'\n",
      " 'national park of Japan' 'Tokyo metropolitan park'\n",
      " 'Special Area of Conservation (2009)' 'Hawaii state park'\n",
      " 'local nature reserve (1969–)' 'botanical reserve'\n",
      " 'nature reserve of New South Wales' 'nature park (1998)'\n",
      " 'Missouri state park' 'sierra' 'historical park of Thailand'\n",
      " 'Nebraska state park' \"national park of the People's Republic of China\"\n",
      " 'Special Area of Conservation (2013–)' 'conservation park of Australia'\n",
      " 'safari park' 'Q96120838' 'Naturpark' 'vegetation zone'\n",
      " 'national park of Belarus' 'protected area of Kenya'\n",
      " 'national park of Poland' 'national park of the Netherlands'\n",
      " 'Natura 2000 protected area' 'Rhode Island state park'\n",
      " 'Biosphere reserve in Latvia\\u200e' 'Maine state park'\n",
      " 'natural monument (2004)' 'group of protected areas'\n",
      " 'former protected area' 'Texas state park' 'nature reserve (NSG HA 060)'\n",
      " 'provincial park of Manitoba' 'Q24255438' 'national parks in Ukraine'\n",
      " 'quasi-national park of Japan' 'geopark' 'zakaznik' 'National Reserve'\n",
      " 'natural region of France' 'Corsican nature reserve' 'wildlife reserve'\n",
      " 'provincial park of New Brunswick' 'state nature reserve'\n",
      " 'National Estuarine Research Reserve' 'national park of Namibia'\n",
      " 'North Carolina state park' 'green belt' 'Virginia state park'\n",
      " 'bird sanctuary' 'Special Protection Area (1999–)' 'park (leisure park)'\n",
      " 'National Park System unit' 'Delaware state park'\n",
      " 'Naturdenkmal in Germany' 'provincial park of Newfoundland and Labrador'\n",
      " 'Naturschutzgebiet (NSG HA 042)' 'New Mexico state park'\n",
      " 'national park of Vietnam' 'ecological station'\n",
      " 'National Conservation Area' 'Fauna and Flora Sanctuary'\n",
      " 'Nature Reserve (Integral)' 'Connecticut state park' 'national preserve'\n",
      " 'monadnock' 'Colorado state park' 'Special Area of Conservation (2019–)'\n",
      " 'protected area of Russia' 'Tiger reserve of India'\n",
      " 'Naturschutzgebiet (NSG HA 090)' 'Landschaftsschutzgebiet'\n",
      " 'national parks of Israel' 'national parks of South Africa'\n",
      " 'urban park (1897–)' 'Alabama state park'\n",
      " 'protected Latvian geological and geomorphological natural monument'\n",
      " 'local nature reserve' 'Montana state park'\n",
      " 'protected area of the United States' 'nature center'\n",
      " 'nature park (1983)' 'Wyoming state park'\n",
      " 'National Park of the United States (2018–)' 'safari park (bear)'\n",
      " 'Alaska state park' 'protected landscape area' 'national park of Senegal'\n",
      " 'Naturschutzgebiet (1940)' 'Hydrological natural heritage site'\n",
      " 'Naturschutzgebiet (1970' 'natural heritage' 'South Carolina state park'\n",
      " 'leisure park' 'Zapovednik' 'faunal reserve' 'natural park in Cameroon'\n",
      " 'Royal Parks of London' 'memorial park' 'Naturschutzgebiet (NSG HA 203)'\n",
      " 'natural region of Germany (http://www.bfn.de/fileadmin/MDB/documents/themen/natura2000/Naturraeume_Deutschlands.pdf)'\n",
      " 'Naturschutzgebiet (NSG HA 190)' 'bird park'\n",
      " 'national nature reserve (1981–)' 'linear park'\n",
      " 'protected landscape area of Slovakia' 'provincial park in Saskatchewan'\n",
      " 'national park of Peru' 'national wildlife area of Canada'\n",
      " 'regional protected landscape (2009)' 'Kentucky state park'\n",
      " 'natural monument (2011)' 'South Dakota state park'\n",
      " 'Special Protection Area' 'Natural monument'\n",
      " 'parks and open spaces in London' 'National Wildlife Refuge Complex'\n",
      " 'Protected Landscape' 'national park of Finland'\n",
      " 'nature reserve in Belarus' 'Naturschutzgebiet (NSG HA 034)'\n",
      " 'Monumento natural de España' 'grassland' 'UNESCO Global Geopark'\n",
      " 'biosphere reserve (2000)' 'national urban park'\n",
      " 'strict nature reserve of Madagascar' 'marine mammal park'\n",
      " 'Nature park (1976)' 'protected landscape area of the Czech Republic'\n",
      " 'nature reserve (NSG Erlenbruch Rheda' 'national nature reserve (1998–)'\n",
      " 'Nature parks in Switzerland' 'strict nature reserve'\n",
      " 'nature park (1979)' 'Naturschutzgebiet (2013)' 'calcareous grassland'\n",
      " 'Q32217625' 'State Park' 'Naturschutzgebiet (NSG HA 047)'\n",
      " 'California State Historic Park' 'scenic park'\n",
      " 'national preserve (1980–)' 'national park of Iceland'\n",
      " 'National parks of Japan' 'protected area of Canada'\n",
      " 'National Park Service visitor center' 'dark-sky preserve (2017'\n",
      " 'national park (1909)' 'national park (1971)'\n",
      " 'nature park in the Czech Republic'\n",
      " 'Area naturale protetta di interesse locale'\n",
      " 'National Park System unit (1936–)' 'Q20108601'\n",
      " 'biosphere reserve (1990–)' 'national nature reserve (1996–)'\n",
      " 'nature reserve (2017' 'nature reserve (2000)'\n",
      " 'Naturschutzgebiet (NSG HA 191)']\n"
     ]
    }
   ],
   "source": [
    "import pandas as pd\n",
    "\n",
    "# Assuming your DataFrame is already read into 'df'\n",
    "# Read the CSV file (uncomment and modify the path if needed)\n",
    "# df = pd.read_csv('file_path.csv')\n",
    "\n",
    "# Filter the DataFrame for the supercategory 'church building'\n",
    "filtered_df = df_labels[df_labels['hierarchical_label'] == 'parks']\n",
    "\n",
    "# Get unique hierarchical_label values\n",
    "unique_super_cat = filtered_df['supercategory'].unique()\n",
    "\n",
    "\n",
    "print(unique_super_cat)\n"
   ]
  },
  {
   "cell_type": "code",
   "execution_count": 29,
   "id": "f01a5de3-5b10-45a5-bee9-04f9b55d520c",
   "metadata": {},
   "outputs": [
    {
     "name": "stdout",
     "output_type": "stream",
     "text": [
      "Collecting plotly\n",
      "  Downloading plotly-5.21.0-py3-none-any.whl.metadata (7.1 kB)\n",
      "Requirement already satisfied: tenacity>=6.2.0 in /Users/yuniktamrakar/.pyenv/versions/3.10.3/lib/python3.10/site-packages (from plotly) (8.2.3)\n",
      "Requirement already satisfied: packaging in /Users/yuniktamrakar/.pyenv/versions/3.10.3/lib/python3.10/site-packages (from plotly) (23.1)\n",
      "Downloading plotly-5.21.0-py3-none-any.whl (15.7 MB)\n",
      "\u001b[2K   \u001b[90m━━━━━━━━━━━━━━━━━━━━━━━━━━━━━━━━━━━━━━━━\u001b[0m \u001b[32m15.7/15.7 MB\u001b[0m \u001b[31m1.4 MB/s\u001b[0m eta \u001b[36m0:00:00\u001b[0m00:01\u001b[0m00:01\u001b[0m\n",
      "\u001b[?25hInstalling collected packages: plotly\n",
      "Successfully installed plotly-5.21.0\n",
      "\n",
      "\u001b[1m[\u001b[0m\u001b[34;49mnotice\u001b[0m\u001b[1;39;49m]\u001b[0m\u001b[39;49m A new release of pip is available: \u001b[0m\u001b[31;49m23.3.1\u001b[0m\u001b[39;49m -> \u001b[0m\u001b[32;49m24.0\u001b[0m\n",
      "\u001b[1m[\u001b[0m\u001b[34;49mnotice\u001b[0m\u001b[1;39;49m]\u001b[0m\u001b[39;49m To update, run: \u001b[0m\u001b[32;49mpip install --upgrade pip\u001b[0m\n"
     ]
    }
   ],
   "source": [
    "!pip install plotly\n"
   ]
  },
  {
   "cell_type": "code",
   "execution_count": 33,
   "id": "de65fb6f-00e1-433b-b2ee-1695c0eaa431",
   "metadata": {},
   "outputs": [
    {
     "data": {
      "application/vnd.plotly.v1+json": {
       "config": {
        "plotlyServerURL": "https://plot.ly"
       },
       "data": [
        {
         "branchvalues": "total",
         "labels": [
          "park",
          "protected area",
          "national park",
          "Washington state park",
          "Wisconsin state park",
          "nature reserve",
          "urban park",
          "nature park",
          "nature reserve in the Czech Republic",
          "Naturschutzgebiet",
          "Oregon state park",
          "Arizona state park",
          "United States National Grassland",
          "provincial park of Canada (designation)",
          "regional park",
          "California state park",
          "natural region",
          "county park",
          "transboundary protected area",
          "national park of Canada"
         ],
         "parents": [
          "parks",
          "parks",
          "parks",
          "parks",
          "parks",
          "parks",
          "parks",
          "parks",
          "parks",
          "parks",
          "parks",
          "parks",
          "parks",
          "parks",
          "parks",
          "parks",
          "parks",
          "parks",
          "parks",
          "parks"
         ],
         "textinfo": "label+percent parent",
         "type": "sunburst",
         "values": [
          100,
          90,
          80,
          70,
          60,
          50,
          45,
          40,
          35,
          30,
          25,
          20,
          18,
          16,
          14,
          12,
          10,
          8,
          6,
          4
         ]
        }
       ],
       "layout": {
        "margin": {
         "b": 0,
         "l": 0,
         "r": 0,
         "t": 0
        },
        "template": {
         "data": {
          "bar": [
           {
            "error_x": {
             "color": "#2a3f5f"
            },
            "error_y": {
             "color": "#2a3f5f"
            },
            "marker": {
             "line": {
              "color": "#E5ECF6",
              "width": 0.5
             },
             "pattern": {
              "fillmode": "overlay",
              "size": 10,
              "solidity": 0.2
             }
            },
            "type": "bar"
           }
          ],
          "barpolar": [
           {
            "marker": {
             "line": {
              "color": "#E5ECF6",
              "width": 0.5
             },
             "pattern": {
              "fillmode": "overlay",
              "size": 10,
              "solidity": 0.2
             }
            },
            "type": "barpolar"
           }
          ],
          "carpet": [
           {
            "aaxis": {
             "endlinecolor": "#2a3f5f",
             "gridcolor": "white",
             "linecolor": "white",
             "minorgridcolor": "white",
             "startlinecolor": "#2a3f5f"
            },
            "baxis": {
             "endlinecolor": "#2a3f5f",
             "gridcolor": "white",
             "linecolor": "white",
             "minorgridcolor": "white",
             "startlinecolor": "#2a3f5f"
            },
            "type": "carpet"
           }
          ],
          "choropleth": [
           {
            "colorbar": {
             "outlinewidth": 0,
             "ticks": ""
            },
            "type": "choropleth"
           }
          ],
          "contour": [
           {
            "colorbar": {
             "outlinewidth": 0,
             "ticks": ""
            },
            "colorscale": [
             [
              0,
              "#0d0887"
             ],
             [
              0.1111111111111111,
              "#46039f"
             ],
             [
              0.2222222222222222,
              "#7201a8"
             ],
             [
              0.3333333333333333,
              "#9c179e"
             ],
             [
              0.4444444444444444,
              "#bd3786"
             ],
             [
              0.5555555555555556,
              "#d8576b"
             ],
             [
              0.6666666666666666,
              "#ed7953"
             ],
             [
              0.7777777777777778,
              "#fb9f3a"
             ],
             [
              0.8888888888888888,
              "#fdca26"
             ],
             [
              1,
              "#f0f921"
             ]
            ],
            "type": "contour"
           }
          ],
          "contourcarpet": [
           {
            "colorbar": {
             "outlinewidth": 0,
             "ticks": ""
            },
            "type": "contourcarpet"
           }
          ],
          "heatmap": [
           {
            "colorbar": {
             "outlinewidth": 0,
             "ticks": ""
            },
            "colorscale": [
             [
              0,
              "#0d0887"
             ],
             [
              0.1111111111111111,
              "#46039f"
             ],
             [
              0.2222222222222222,
              "#7201a8"
             ],
             [
              0.3333333333333333,
              "#9c179e"
             ],
             [
              0.4444444444444444,
              "#bd3786"
             ],
             [
              0.5555555555555556,
              "#d8576b"
             ],
             [
              0.6666666666666666,
              "#ed7953"
             ],
             [
              0.7777777777777778,
              "#fb9f3a"
             ],
             [
              0.8888888888888888,
              "#fdca26"
             ],
             [
              1,
              "#f0f921"
             ]
            ],
            "type": "heatmap"
           }
          ],
          "heatmapgl": [
           {
            "colorbar": {
             "outlinewidth": 0,
             "ticks": ""
            },
            "colorscale": [
             [
              0,
              "#0d0887"
             ],
             [
              0.1111111111111111,
              "#46039f"
             ],
             [
              0.2222222222222222,
              "#7201a8"
             ],
             [
              0.3333333333333333,
              "#9c179e"
             ],
             [
              0.4444444444444444,
              "#bd3786"
             ],
             [
              0.5555555555555556,
              "#d8576b"
             ],
             [
              0.6666666666666666,
              "#ed7953"
             ],
             [
              0.7777777777777778,
              "#fb9f3a"
             ],
             [
              0.8888888888888888,
              "#fdca26"
             ],
             [
              1,
              "#f0f921"
             ]
            ],
            "type": "heatmapgl"
           }
          ],
          "histogram": [
           {
            "marker": {
             "pattern": {
              "fillmode": "overlay",
              "size": 10,
              "solidity": 0.2
             }
            },
            "type": "histogram"
           }
          ],
          "histogram2d": [
           {
            "colorbar": {
             "outlinewidth": 0,
             "ticks": ""
            },
            "colorscale": [
             [
              0,
              "#0d0887"
             ],
             [
              0.1111111111111111,
              "#46039f"
             ],
             [
              0.2222222222222222,
              "#7201a8"
             ],
             [
              0.3333333333333333,
              "#9c179e"
             ],
             [
              0.4444444444444444,
              "#bd3786"
             ],
             [
              0.5555555555555556,
              "#d8576b"
             ],
             [
              0.6666666666666666,
              "#ed7953"
             ],
             [
              0.7777777777777778,
              "#fb9f3a"
             ],
             [
              0.8888888888888888,
              "#fdca26"
             ],
             [
              1,
              "#f0f921"
             ]
            ],
            "type": "histogram2d"
           }
          ],
          "histogram2dcontour": [
           {
            "colorbar": {
             "outlinewidth": 0,
             "ticks": ""
            },
            "colorscale": [
             [
              0,
              "#0d0887"
             ],
             [
              0.1111111111111111,
              "#46039f"
             ],
             [
              0.2222222222222222,
              "#7201a8"
             ],
             [
              0.3333333333333333,
              "#9c179e"
             ],
             [
              0.4444444444444444,
              "#bd3786"
             ],
             [
              0.5555555555555556,
              "#d8576b"
             ],
             [
              0.6666666666666666,
              "#ed7953"
             ],
             [
              0.7777777777777778,
              "#fb9f3a"
             ],
             [
              0.8888888888888888,
              "#fdca26"
             ],
             [
              1,
              "#f0f921"
             ]
            ],
            "type": "histogram2dcontour"
           }
          ],
          "mesh3d": [
           {
            "colorbar": {
             "outlinewidth": 0,
             "ticks": ""
            },
            "type": "mesh3d"
           }
          ],
          "parcoords": [
           {
            "line": {
             "colorbar": {
              "outlinewidth": 0,
              "ticks": ""
             }
            },
            "type": "parcoords"
           }
          ],
          "pie": [
           {
            "automargin": true,
            "type": "pie"
           }
          ],
          "scatter": [
           {
            "fillpattern": {
             "fillmode": "overlay",
             "size": 10,
             "solidity": 0.2
            },
            "type": "scatter"
           }
          ],
          "scatter3d": [
           {
            "line": {
             "colorbar": {
              "outlinewidth": 0,
              "ticks": ""
             }
            },
            "marker": {
             "colorbar": {
              "outlinewidth": 0,
              "ticks": ""
             }
            },
            "type": "scatter3d"
           }
          ],
          "scattercarpet": [
           {
            "marker": {
             "colorbar": {
              "outlinewidth": 0,
              "ticks": ""
             }
            },
            "type": "scattercarpet"
           }
          ],
          "scattergeo": [
           {
            "marker": {
             "colorbar": {
              "outlinewidth": 0,
              "ticks": ""
             }
            },
            "type": "scattergeo"
           }
          ],
          "scattergl": [
           {
            "marker": {
             "colorbar": {
              "outlinewidth": 0,
              "ticks": ""
             }
            },
            "type": "scattergl"
           }
          ],
          "scattermapbox": [
           {
            "marker": {
             "colorbar": {
              "outlinewidth": 0,
              "ticks": ""
             }
            },
            "type": "scattermapbox"
           }
          ],
          "scatterpolar": [
           {
            "marker": {
             "colorbar": {
              "outlinewidth": 0,
              "ticks": ""
             }
            },
            "type": "scatterpolar"
           }
          ],
          "scatterpolargl": [
           {
            "marker": {
             "colorbar": {
              "outlinewidth": 0,
              "ticks": ""
             }
            },
            "type": "scatterpolargl"
           }
          ],
          "scatterternary": [
           {
            "marker": {
             "colorbar": {
              "outlinewidth": 0,
              "ticks": ""
             }
            },
            "type": "scatterternary"
           }
          ],
          "surface": [
           {
            "colorbar": {
             "outlinewidth": 0,
             "ticks": ""
            },
            "colorscale": [
             [
              0,
              "#0d0887"
             ],
             [
              0.1111111111111111,
              "#46039f"
             ],
             [
              0.2222222222222222,
              "#7201a8"
             ],
             [
              0.3333333333333333,
              "#9c179e"
             ],
             [
              0.4444444444444444,
              "#bd3786"
             ],
             [
              0.5555555555555556,
              "#d8576b"
             ],
             [
              0.6666666666666666,
              "#ed7953"
             ],
             [
              0.7777777777777778,
              "#fb9f3a"
             ],
             [
              0.8888888888888888,
              "#fdca26"
             ],
             [
              1,
              "#f0f921"
             ]
            ],
            "type": "surface"
           }
          ],
          "table": [
           {
            "cells": {
             "fill": {
              "color": "#EBF0F8"
             },
             "line": {
              "color": "white"
             }
            },
            "header": {
             "fill": {
              "color": "#C8D4E3"
             },
             "line": {
              "color": "white"
             }
            },
            "type": "table"
           }
          ]
         },
         "layout": {
          "annotationdefaults": {
           "arrowcolor": "#2a3f5f",
           "arrowhead": 0,
           "arrowwidth": 1
          },
          "autotypenumbers": "strict",
          "coloraxis": {
           "colorbar": {
            "outlinewidth": 0,
            "ticks": ""
           }
          },
          "colorscale": {
           "diverging": [
            [
             0,
             "#8e0152"
            ],
            [
             0.1,
             "#c51b7d"
            ],
            [
             0.2,
             "#de77ae"
            ],
            [
             0.3,
             "#f1b6da"
            ],
            [
             0.4,
             "#fde0ef"
            ],
            [
             0.5,
             "#f7f7f7"
            ],
            [
             0.6,
             "#e6f5d0"
            ],
            [
             0.7,
             "#b8e186"
            ],
            [
             0.8,
             "#7fbc41"
            ],
            [
             0.9,
             "#4d9221"
            ],
            [
             1,
             "#276419"
            ]
           ],
           "sequential": [
            [
             0,
             "#0d0887"
            ],
            [
             0.1111111111111111,
             "#46039f"
            ],
            [
             0.2222222222222222,
             "#7201a8"
            ],
            [
             0.3333333333333333,
             "#9c179e"
            ],
            [
             0.4444444444444444,
             "#bd3786"
            ],
            [
             0.5555555555555556,
             "#d8576b"
            ],
            [
             0.6666666666666666,
             "#ed7953"
            ],
            [
             0.7777777777777778,
             "#fb9f3a"
            ],
            [
             0.8888888888888888,
             "#fdca26"
            ],
            [
             1,
             "#f0f921"
            ]
           ],
           "sequentialminus": [
            [
             0,
             "#0d0887"
            ],
            [
             0.1111111111111111,
             "#46039f"
            ],
            [
             0.2222222222222222,
             "#7201a8"
            ],
            [
             0.3333333333333333,
             "#9c179e"
            ],
            [
             0.4444444444444444,
             "#bd3786"
            ],
            [
             0.5555555555555556,
             "#d8576b"
            ],
            [
             0.6666666666666666,
             "#ed7953"
            ],
            [
             0.7777777777777778,
             "#fb9f3a"
            ],
            [
             0.8888888888888888,
             "#fdca26"
            ],
            [
             1,
             "#f0f921"
            ]
           ]
          },
          "colorway": [
           "#636efa",
           "#EF553B",
           "#00cc96",
           "#ab63fa",
           "#FFA15A",
           "#19d3f3",
           "#FF6692",
           "#B6E880",
           "#FF97FF",
           "#FECB52"
          ],
          "font": {
           "color": "#2a3f5f"
          },
          "geo": {
           "bgcolor": "white",
           "lakecolor": "white",
           "landcolor": "#E5ECF6",
           "showlakes": true,
           "showland": true,
           "subunitcolor": "white"
          },
          "hoverlabel": {
           "align": "left"
          },
          "hovermode": "closest",
          "mapbox": {
           "style": "light"
          },
          "paper_bgcolor": "white",
          "plot_bgcolor": "#E5ECF6",
          "polar": {
           "angularaxis": {
            "gridcolor": "white",
            "linecolor": "white",
            "ticks": ""
           },
           "bgcolor": "#E5ECF6",
           "radialaxis": {
            "gridcolor": "white",
            "linecolor": "white",
            "ticks": ""
           }
          },
          "scene": {
           "xaxis": {
            "backgroundcolor": "#E5ECF6",
            "gridcolor": "white",
            "gridwidth": 2,
            "linecolor": "white",
            "showbackground": true,
            "ticks": "",
            "zerolinecolor": "white"
           },
           "yaxis": {
            "backgroundcolor": "#E5ECF6",
            "gridcolor": "white",
            "gridwidth": 2,
            "linecolor": "white",
            "showbackground": true,
            "ticks": "",
            "zerolinecolor": "white"
           },
           "zaxis": {
            "backgroundcolor": "#E5ECF6",
            "gridcolor": "white",
            "gridwidth": 2,
            "linecolor": "white",
            "showbackground": true,
            "ticks": "",
            "zerolinecolor": "white"
           }
          },
          "shapedefaults": {
           "line": {
            "color": "#2a3f5f"
           }
          },
          "ternary": {
           "aaxis": {
            "gridcolor": "white",
            "linecolor": "white",
            "ticks": ""
           },
           "baxis": {
            "gridcolor": "white",
            "linecolor": "white",
            "ticks": ""
           },
           "bgcolor": "#E5ECF6",
           "caxis": {
            "gridcolor": "white",
            "linecolor": "white",
            "ticks": ""
           }
          },
          "title": {
           "x": 0.05
          },
          "xaxis": {
           "automargin": true,
           "gridcolor": "white",
           "linecolor": "white",
           "ticks": "",
           "title": {
            "standoff": 15
           },
           "zerolinecolor": "white",
           "zerolinewidth": 2
          },
          "yaxis": {
           "automargin": true,
           "gridcolor": "white",
           "linecolor": "white",
           "ticks": "",
           "title": {
            "standoff": 15
           },
           "zerolinecolor": "white",
           "zerolinewidth": 2
          }
         }
        }
       }
      },
      "text/html": [
       "<div>                            <div id=\"66a11990-6ac4-44f2-b903-b5a201ad70cf\" class=\"plotly-graph-div\" style=\"height:525px; width:100%;\"></div>            <script type=\"text/javascript\">                require([\"plotly\"], function(Plotly) {                    window.PLOTLYENV=window.PLOTLYENV || {};                                    if (document.getElementById(\"66a11990-6ac4-44f2-b903-b5a201ad70cf\")) {                    Plotly.newPlot(                        \"66a11990-6ac4-44f2-b903-b5a201ad70cf\",                        [{\"branchvalues\":\"total\",\"labels\":[\"park\",\"protected area\",\"national park\",\"Washington state park\",\"Wisconsin state park\",\"nature reserve\",\"urban park\",\"nature park\",\"nature reserve in the Czech Republic\",\"Naturschutzgebiet\",\"Oregon state park\",\"Arizona state park\",\"United States National Grassland\",\"provincial park of Canada (designation)\",\"regional park\",\"California state park\",\"natural region\",\"county park\",\"transboundary protected area\",\"national park of Canada\"],\"parents\":[\"parks\",\"parks\",\"parks\",\"parks\",\"parks\",\"parks\",\"parks\",\"parks\",\"parks\",\"parks\",\"parks\",\"parks\",\"parks\",\"parks\",\"parks\",\"parks\",\"parks\",\"parks\",\"parks\",\"parks\"],\"values\":[100,90,80,70,60,50,45,40,35,30,25,20,18,16,14,12,10,8,6,4],\"type\":\"sunburst\",\"textinfo\":\"label+percent parent\"}],                        {\"template\":{\"data\":{\"histogram2dcontour\":[{\"type\":\"histogram2dcontour\",\"colorbar\":{\"outlinewidth\":0,\"ticks\":\"\"},\"colorscale\":[[0.0,\"#0d0887\"],[0.1111111111111111,\"#46039f\"],[0.2222222222222222,\"#7201a8\"],[0.3333333333333333,\"#9c179e\"],[0.4444444444444444,\"#bd3786\"],[0.5555555555555556,\"#d8576b\"],[0.6666666666666666,\"#ed7953\"],[0.7777777777777778,\"#fb9f3a\"],[0.8888888888888888,\"#fdca26\"],[1.0,\"#f0f921\"]]}],\"choropleth\":[{\"type\":\"choropleth\",\"colorbar\":{\"outlinewidth\":0,\"ticks\":\"\"}}],\"histogram2d\":[{\"type\":\"histogram2d\",\"colorbar\":{\"outlinewidth\":0,\"ticks\":\"\"},\"colorscale\":[[0.0,\"#0d0887\"],[0.1111111111111111,\"#46039f\"],[0.2222222222222222,\"#7201a8\"],[0.3333333333333333,\"#9c179e\"],[0.4444444444444444,\"#bd3786\"],[0.5555555555555556,\"#d8576b\"],[0.6666666666666666,\"#ed7953\"],[0.7777777777777778,\"#fb9f3a\"],[0.8888888888888888,\"#fdca26\"],[1.0,\"#f0f921\"]]}],\"heatmap\":[{\"type\":\"heatmap\",\"colorbar\":{\"outlinewidth\":0,\"ticks\":\"\"},\"colorscale\":[[0.0,\"#0d0887\"],[0.1111111111111111,\"#46039f\"],[0.2222222222222222,\"#7201a8\"],[0.3333333333333333,\"#9c179e\"],[0.4444444444444444,\"#bd3786\"],[0.5555555555555556,\"#d8576b\"],[0.6666666666666666,\"#ed7953\"],[0.7777777777777778,\"#fb9f3a\"],[0.8888888888888888,\"#fdca26\"],[1.0,\"#f0f921\"]]}],\"heatmapgl\":[{\"type\":\"heatmapgl\",\"colorbar\":{\"outlinewidth\":0,\"ticks\":\"\"},\"colorscale\":[[0.0,\"#0d0887\"],[0.1111111111111111,\"#46039f\"],[0.2222222222222222,\"#7201a8\"],[0.3333333333333333,\"#9c179e\"],[0.4444444444444444,\"#bd3786\"],[0.5555555555555556,\"#d8576b\"],[0.6666666666666666,\"#ed7953\"],[0.7777777777777778,\"#fb9f3a\"],[0.8888888888888888,\"#fdca26\"],[1.0,\"#f0f921\"]]}],\"contourcarpet\":[{\"type\":\"contourcarpet\",\"colorbar\":{\"outlinewidth\":0,\"ticks\":\"\"}}],\"contour\":[{\"type\":\"contour\",\"colorbar\":{\"outlinewidth\":0,\"ticks\":\"\"},\"colorscale\":[[0.0,\"#0d0887\"],[0.1111111111111111,\"#46039f\"],[0.2222222222222222,\"#7201a8\"],[0.3333333333333333,\"#9c179e\"],[0.4444444444444444,\"#bd3786\"],[0.5555555555555556,\"#d8576b\"],[0.6666666666666666,\"#ed7953\"],[0.7777777777777778,\"#fb9f3a\"],[0.8888888888888888,\"#fdca26\"],[1.0,\"#f0f921\"]]}],\"surface\":[{\"type\":\"surface\",\"colorbar\":{\"outlinewidth\":0,\"ticks\":\"\"},\"colorscale\":[[0.0,\"#0d0887\"],[0.1111111111111111,\"#46039f\"],[0.2222222222222222,\"#7201a8\"],[0.3333333333333333,\"#9c179e\"],[0.4444444444444444,\"#bd3786\"],[0.5555555555555556,\"#d8576b\"],[0.6666666666666666,\"#ed7953\"],[0.7777777777777778,\"#fb9f3a\"],[0.8888888888888888,\"#fdca26\"],[1.0,\"#f0f921\"]]}],\"mesh3d\":[{\"type\":\"mesh3d\",\"colorbar\":{\"outlinewidth\":0,\"ticks\":\"\"}}],\"scatter\":[{\"fillpattern\":{\"fillmode\":\"overlay\",\"size\":10,\"solidity\":0.2},\"type\":\"scatter\"}],\"parcoords\":[{\"type\":\"parcoords\",\"line\":{\"colorbar\":{\"outlinewidth\":0,\"ticks\":\"\"}}}],\"scatterpolargl\":[{\"type\":\"scatterpolargl\",\"marker\":{\"colorbar\":{\"outlinewidth\":0,\"ticks\":\"\"}}}],\"bar\":[{\"error_x\":{\"color\":\"#2a3f5f\"},\"error_y\":{\"color\":\"#2a3f5f\"},\"marker\":{\"line\":{\"color\":\"#E5ECF6\",\"width\":0.5},\"pattern\":{\"fillmode\":\"overlay\",\"size\":10,\"solidity\":0.2}},\"type\":\"bar\"}],\"scattergeo\":[{\"type\":\"scattergeo\",\"marker\":{\"colorbar\":{\"outlinewidth\":0,\"ticks\":\"\"}}}],\"scatterpolar\":[{\"type\":\"scatterpolar\",\"marker\":{\"colorbar\":{\"outlinewidth\":0,\"ticks\":\"\"}}}],\"histogram\":[{\"marker\":{\"pattern\":{\"fillmode\":\"overlay\",\"size\":10,\"solidity\":0.2}},\"type\":\"histogram\"}],\"scattergl\":[{\"type\":\"scattergl\",\"marker\":{\"colorbar\":{\"outlinewidth\":0,\"ticks\":\"\"}}}],\"scatter3d\":[{\"type\":\"scatter3d\",\"line\":{\"colorbar\":{\"outlinewidth\":0,\"ticks\":\"\"}},\"marker\":{\"colorbar\":{\"outlinewidth\":0,\"ticks\":\"\"}}}],\"scattermapbox\":[{\"type\":\"scattermapbox\",\"marker\":{\"colorbar\":{\"outlinewidth\":0,\"ticks\":\"\"}}}],\"scatterternary\":[{\"type\":\"scatterternary\",\"marker\":{\"colorbar\":{\"outlinewidth\":0,\"ticks\":\"\"}}}],\"scattercarpet\":[{\"type\":\"scattercarpet\",\"marker\":{\"colorbar\":{\"outlinewidth\":0,\"ticks\":\"\"}}}],\"carpet\":[{\"aaxis\":{\"endlinecolor\":\"#2a3f5f\",\"gridcolor\":\"white\",\"linecolor\":\"white\",\"minorgridcolor\":\"white\",\"startlinecolor\":\"#2a3f5f\"},\"baxis\":{\"endlinecolor\":\"#2a3f5f\",\"gridcolor\":\"white\",\"linecolor\":\"white\",\"minorgridcolor\":\"white\",\"startlinecolor\":\"#2a3f5f\"},\"type\":\"carpet\"}],\"table\":[{\"cells\":{\"fill\":{\"color\":\"#EBF0F8\"},\"line\":{\"color\":\"white\"}},\"header\":{\"fill\":{\"color\":\"#C8D4E3\"},\"line\":{\"color\":\"white\"}},\"type\":\"table\"}],\"barpolar\":[{\"marker\":{\"line\":{\"color\":\"#E5ECF6\",\"width\":0.5},\"pattern\":{\"fillmode\":\"overlay\",\"size\":10,\"solidity\":0.2}},\"type\":\"barpolar\"}],\"pie\":[{\"automargin\":true,\"type\":\"pie\"}]},\"layout\":{\"autotypenumbers\":\"strict\",\"colorway\":[\"#636efa\",\"#EF553B\",\"#00cc96\",\"#ab63fa\",\"#FFA15A\",\"#19d3f3\",\"#FF6692\",\"#B6E880\",\"#FF97FF\",\"#FECB52\"],\"font\":{\"color\":\"#2a3f5f\"},\"hovermode\":\"closest\",\"hoverlabel\":{\"align\":\"left\"},\"paper_bgcolor\":\"white\",\"plot_bgcolor\":\"#E5ECF6\",\"polar\":{\"bgcolor\":\"#E5ECF6\",\"angularaxis\":{\"gridcolor\":\"white\",\"linecolor\":\"white\",\"ticks\":\"\"},\"radialaxis\":{\"gridcolor\":\"white\",\"linecolor\":\"white\",\"ticks\":\"\"}},\"ternary\":{\"bgcolor\":\"#E5ECF6\",\"aaxis\":{\"gridcolor\":\"white\",\"linecolor\":\"white\",\"ticks\":\"\"},\"baxis\":{\"gridcolor\":\"white\",\"linecolor\":\"white\",\"ticks\":\"\"},\"caxis\":{\"gridcolor\":\"white\",\"linecolor\":\"white\",\"ticks\":\"\"}},\"coloraxis\":{\"colorbar\":{\"outlinewidth\":0,\"ticks\":\"\"}},\"colorscale\":{\"sequential\":[[0.0,\"#0d0887\"],[0.1111111111111111,\"#46039f\"],[0.2222222222222222,\"#7201a8\"],[0.3333333333333333,\"#9c179e\"],[0.4444444444444444,\"#bd3786\"],[0.5555555555555556,\"#d8576b\"],[0.6666666666666666,\"#ed7953\"],[0.7777777777777778,\"#fb9f3a\"],[0.8888888888888888,\"#fdca26\"],[1.0,\"#f0f921\"]],\"sequentialminus\":[[0.0,\"#0d0887\"],[0.1111111111111111,\"#46039f\"],[0.2222222222222222,\"#7201a8\"],[0.3333333333333333,\"#9c179e\"],[0.4444444444444444,\"#bd3786\"],[0.5555555555555556,\"#d8576b\"],[0.6666666666666666,\"#ed7953\"],[0.7777777777777778,\"#fb9f3a\"],[0.8888888888888888,\"#fdca26\"],[1.0,\"#f0f921\"]],\"diverging\":[[0,\"#8e0152\"],[0.1,\"#c51b7d\"],[0.2,\"#de77ae\"],[0.3,\"#f1b6da\"],[0.4,\"#fde0ef\"],[0.5,\"#f7f7f7\"],[0.6,\"#e6f5d0\"],[0.7,\"#b8e186\"],[0.8,\"#7fbc41\"],[0.9,\"#4d9221\"],[1,\"#276419\"]]},\"xaxis\":{\"gridcolor\":\"white\",\"linecolor\":\"white\",\"ticks\":\"\",\"title\":{\"standoff\":15},\"zerolinecolor\":\"white\",\"automargin\":true,\"zerolinewidth\":2},\"yaxis\":{\"gridcolor\":\"white\",\"linecolor\":\"white\",\"ticks\":\"\",\"title\":{\"standoff\":15},\"zerolinecolor\":\"white\",\"automargin\":true,\"zerolinewidth\":2},\"scene\":{\"xaxis\":{\"backgroundcolor\":\"#E5ECF6\",\"gridcolor\":\"white\",\"linecolor\":\"white\",\"showbackground\":true,\"ticks\":\"\",\"zerolinecolor\":\"white\",\"gridwidth\":2},\"yaxis\":{\"backgroundcolor\":\"#E5ECF6\",\"gridcolor\":\"white\",\"linecolor\":\"white\",\"showbackground\":true,\"ticks\":\"\",\"zerolinecolor\":\"white\",\"gridwidth\":2},\"zaxis\":{\"backgroundcolor\":\"#E5ECF6\",\"gridcolor\":\"white\",\"linecolor\":\"white\",\"showbackground\":true,\"ticks\":\"\",\"zerolinecolor\":\"white\",\"gridwidth\":2}},\"shapedefaults\":{\"line\":{\"color\":\"#2a3f5f\"}},\"annotationdefaults\":{\"arrowcolor\":\"#2a3f5f\",\"arrowhead\":0,\"arrowwidth\":1},\"geo\":{\"bgcolor\":\"white\",\"landcolor\":\"#E5ECF6\",\"subunitcolor\":\"white\",\"showland\":true,\"showlakes\":true,\"lakecolor\":\"white\"},\"title\":{\"x\":0.05},\"mapbox\":{\"style\":\"light\"}}},\"margin\":{\"t\":0,\"l\":0,\"r\":0,\"b\":0}},                        {\"responsive\": true}                    ).then(function(){\n",
       "                            \n",
       "var gd = document.getElementById('66a11990-6ac4-44f2-b903-b5a201ad70cf');\n",
       "var x = new MutationObserver(function (mutations, observer) {{\n",
       "        var display = window.getComputedStyle(gd).display;\n",
       "        if (!display || display === 'none') {{\n",
       "            console.log([gd, 'removed!']);\n",
       "            Plotly.purge(gd);\n",
       "            observer.disconnect();\n",
       "        }}\n",
       "}});\n",
       "\n",
       "// Listen for the removal of the full notebook cells\n",
       "var notebookContainer = gd.closest('#notebook-container');\n",
       "if (notebookContainer) {{\n",
       "    x.observe(notebookContainer, {childList: true});\n",
       "}}\n",
       "\n",
       "// Listen for the clearing of the current output cell\n",
       "var outputEl = gd.closest('.output');\n",
       "if (outputEl) {{\n",
       "    x.observe(outputEl, {childList: true});\n",
       "}}\n",
       "\n",
       "                        })                };                });            </script>        </div>"
      ]
     },
     "metadata": {},
     "output_type": "display_data"
    }
   ],
   "source": [
    "import plotly.graph_objects as go\n",
    "\n",
    "# Hardcoded top 20 supercategories for 'parks'\n",
    "data = {\n",
    "    'supercategory': [\n",
    "        'park', 'protected area', 'national park', 'Washington state park',\n",
    "        'Wisconsin state park', 'nature reserve', 'urban park', 'nature park',\n",
    "        'nature reserve in the Czech Republic', 'Naturschutzgebiet',\n",
    "        'Oregon state park', 'Arizona state park',\n",
    "        'United States National Grassland', 'provincial park of Canada (designation)',\n",
    "        'regional park', 'California state park', 'natural region', 'county park',\n",
    "        'transboundary protected area', 'national park of Canada'\n",
    "    ],\n",
    "    'counts': [100, 90, 80, 70, 60, 50, 45, 40, 35, 30, 25, 20, 18, 16, 14, 12, 10, 8, 6, 4]  # Example counts\n",
    "}\n",
    "\n",
    "# Creating the sunburst chart\n",
    "fig = go.Figure(go.Sunburst(\n",
    "    labels=data['supercategory'],\n",
    "    parents=['parks'] * len(data['supercategory']),  # All items have 'parks' as parent\n",
    "    values=data['counts'],\n",
    "    branchvalues=\"total\"\n",
    "))\n",
    "fig.update_layout(margin=dict(t=0, l=0, r=0, b=0))\n",
    "fig.update_traces(textinfo='label+percent parent')\n",
    "fig.show()\n",
    "\n",
    "\n"
   ]
  },
  {
   "cell_type": "code",
   "execution_count": 34,
   "id": "12344926-d3b5-4405-ba60-e24c42ff8e59",
   "metadata": {},
   "outputs": [
    {
     "data": {
      "application/vnd.plotly.v1+json": {
       "config": {
        "plotlyServerURL": "https://plot.ly"
       },
       "data": [
        {
         "branchvalues": "total",
         "customdata": [
          [
           20
          ],
          [
           12
          ],
          [
           30
          ],
          [
           25
          ],
          [
           18
          ],
          [
           70
          ],
          [
           60
          ],
          [
           8
          ],
          [
           80
          ],
          [
           4
          ],
          [
           10
          ],
          [
           40
          ],
          [
           50
          ],
          [
           35
          ],
          [
           100
          ],
          [
           90
          ],
          [
           16
          ],
          [
           14
          ],
          [
           6
          ],
          [
           45
          ],
          [
           59.2237380627558
          ]
         ],
         "domain": {
          "x": [
           0,
           1
          ],
          "y": [
           0,
           1
          ]
         },
         "hovertemplate": "labels=%{label}<br>counts_sum=%{value}<br>parent=%{parent}<br>id=%{id}<br>counts=%{color}<extra></extra>",
         "ids": [
          "parks/Arizona state park",
          "parks/California state park",
          "parks/Naturschutzgebiet",
          "parks/Oregon state park",
          "parks/United States National Grassland",
          "parks/Washington state park",
          "parks/Wisconsin state park",
          "parks/county park",
          "parks/national park",
          "parks/national park of Canada",
          "parks/natural region",
          "parks/nature park",
          "parks/nature reserve",
          "parks/nature reserve in the Czech Republic",
          "parks/park",
          "parks/protected area",
          "parks/provincial park of Canada (designation)",
          "parks/regional park",
          "parks/transboundary protected area",
          "parks/urban park",
          "parks"
         ],
         "labels": [
          "Arizona state park",
          "California state park",
          "Naturschutzgebiet",
          "Oregon state park",
          "United States National Grassland",
          "Washington state park",
          "Wisconsin state park",
          "county park",
          "national park",
          "national park of Canada",
          "natural region",
          "nature park",
          "nature reserve",
          "nature reserve in the Czech Republic",
          "park",
          "protected area",
          "provincial park of Canada (designation)",
          "regional park",
          "transboundary protected area",
          "urban park",
          "parks"
         ],
         "marker": {
          "coloraxis": "coloraxis",
          "colors": [
           20,
           12,
           30,
           25,
           18,
           70,
           60,
           8,
           80,
           4,
           10,
           40,
           50,
           35,
           100,
           90,
           16,
           14,
           6,
           45,
           59.2237380627558
          ]
         },
         "name": "",
         "parents": [
          "parks",
          "parks",
          "parks",
          "parks",
          "parks",
          "parks",
          "parks",
          "parks",
          "parks",
          "parks",
          "parks",
          "parks",
          "parks",
          "parks",
          "parks",
          "parks",
          "parks",
          "parks",
          "parks",
          "parks",
          ""
         ],
         "textinfo": "label+value+percent parent",
         "type": "treemap",
         "values": [
          20,
          12,
          30,
          25,
          18,
          70,
          60,
          8,
          80,
          4,
          10,
          40,
          50,
          35,
          100,
          90,
          16,
          14,
          6,
          45,
          733
         ]
        }
       ],
       "layout": {
        "coloraxis": {
         "colorbar": {
          "title": {
           "text": "counts"
          }
         },
         "colorscale": [
          [
           0,
           "rgb(103,0,31)"
          ],
          [
           0.1,
           "rgb(178,24,43)"
          ],
          [
           0.2,
           "rgb(214,96,77)"
          ],
          [
           0.3,
           "rgb(244,165,130)"
          ],
          [
           0.4,
           "rgb(253,219,199)"
          ],
          [
           0.5,
           "rgb(247,247,247)"
          ],
          [
           0.6,
           "rgb(209,229,240)"
          ],
          [
           0.7,
           "rgb(146,197,222)"
          ],
          [
           0.8,
           "rgb(67,147,195)"
          ],
          [
           0.9,
           "rgb(33,102,172)"
          ],
          [
           1,
           "rgb(5,48,97)"
          ]
         ]
        },
        "legend": {
         "tracegroupgap": 0
        },
        "margin": {
         "b": 25,
         "l": 25,
         "r": 25,
         "t": 50
        },
        "template": {
         "data": {
          "bar": [
           {
            "error_x": {
             "color": "#2a3f5f"
            },
            "error_y": {
             "color": "#2a3f5f"
            },
            "marker": {
             "line": {
              "color": "#E5ECF6",
              "width": 0.5
             },
             "pattern": {
              "fillmode": "overlay",
              "size": 10,
              "solidity": 0.2
             }
            },
            "type": "bar"
           }
          ],
          "barpolar": [
           {
            "marker": {
             "line": {
              "color": "#E5ECF6",
              "width": 0.5
             },
             "pattern": {
              "fillmode": "overlay",
              "size": 10,
              "solidity": 0.2
             }
            },
            "type": "barpolar"
           }
          ],
          "carpet": [
           {
            "aaxis": {
             "endlinecolor": "#2a3f5f",
             "gridcolor": "white",
             "linecolor": "white",
             "minorgridcolor": "white",
             "startlinecolor": "#2a3f5f"
            },
            "baxis": {
             "endlinecolor": "#2a3f5f",
             "gridcolor": "white",
             "linecolor": "white",
             "minorgridcolor": "white",
             "startlinecolor": "#2a3f5f"
            },
            "type": "carpet"
           }
          ],
          "choropleth": [
           {
            "colorbar": {
             "outlinewidth": 0,
             "ticks": ""
            },
            "type": "choropleth"
           }
          ],
          "contour": [
           {
            "colorbar": {
             "outlinewidth": 0,
             "ticks": ""
            },
            "colorscale": [
             [
              0,
              "#0d0887"
             ],
             [
              0.1111111111111111,
              "#46039f"
             ],
             [
              0.2222222222222222,
              "#7201a8"
             ],
             [
              0.3333333333333333,
              "#9c179e"
             ],
             [
              0.4444444444444444,
              "#bd3786"
             ],
             [
              0.5555555555555556,
              "#d8576b"
             ],
             [
              0.6666666666666666,
              "#ed7953"
             ],
             [
              0.7777777777777778,
              "#fb9f3a"
             ],
             [
              0.8888888888888888,
              "#fdca26"
             ],
             [
              1,
              "#f0f921"
             ]
            ],
            "type": "contour"
           }
          ],
          "contourcarpet": [
           {
            "colorbar": {
             "outlinewidth": 0,
             "ticks": ""
            },
            "type": "contourcarpet"
           }
          ],
          "heatmap": [
           {
            "colorbar": {
             "outlinewidth": 0,
             "ticks": ""
            },
            "colorscale": [
             [
              0,
              "#0d0887"
             ],
             [
              0.1111111111111111,
              "#46039f"
             ],
             [
              0.2222222222222222,
              "#7201a8"
             ],
             [
              0.3333333333333333,
              "#9c179e"
             ],
             [
              0.4444444444444444,
              "#bd3786"
             ],
             [
              0.5555555555555556,
              "#d8576b"
             ],
             [
              0.6666666666666666,
              "#ed7953"
             ],
             [
              0.7777777777777778,
              "#fb9f3a"
             ],
             [
              0.8888888888888888,
              "#fdca26"
             ],
             [
              1,
              "#f0f921"
             ]
            ],
            "type": "heatmap"
           }
          ],
          "heatmapgl": [
           {
            "colorbar": {
             "outlinewidth": 0,
             "ticks": ""
            },
            "colorscale": [
             [
              0,
              "#0d0887"
             ],
             [
              0.1111111111111111,
              "#46039f"
             ],
             [
              0.2222222222222222,
              "#7201a8"
             ],
             [
              0.3333333333333333,
              "#9c179e"
             ],
             [
              0.4444444444444444,
              "#bd3786"
             ],
             [
              0.5555555555555556,
              "#d8576b"
             ],
             [
              0.6666666666666666,
              "#ed7953"
             ],
             [
              0.7777777777777778,
              "#fb9f3a"
             ],
             [
              0.8888888888888888,
              "#fdca26"
             ],
             [
              1,
              "#f0f921"
             ]
            ],
            "type": "heatmapgl"
           }
          ],
          "histogram": [
           {
            "marker": {
             "pattern": {
              "fillmode": "overlay",
              "size": 10,
              "solidity": 0.2
             }
            },
            "type": "histogram"
           }
          ],
          "histogram2d": [
           {
            "colorbar": {
             "outlinewidth": 0,
             "ticks": ""
            },
            "colorscale": [
             [
              0,
              "#0d0887"
             ],
             [
              0.1111111111111111,
              "#46039f"
             ],
             [
              0.2222222222222222,
              "#7201a8"
             ],
             [
              0.3333333333333333,
              "#9c179e"
             ],
             [
              0.4444444444444444,
              "#bd3786"
             ],
             [
              0.5555555555555556,
              "#d8576b"
             ],
             [
              0.6666666666666666,
              "#ed7953"
             ],
             [
              0.7777777777777778,
              "#fb9f3a"
             ],
             [
              0.8888888888888888,
              "#fdca26"
             ],
             [
              1,
              "#f0f921"
             ]
            ],
            "type": "histogram2d"
           }
          ],
          "histogram2dcontour": [
           {
            "colorbar": {
             "outlinewidth": 0,
             "ticks": ""
            },
            "colorscale": [
             [
              0,
              "#0d0887"
             ],
             [
              0.1111111111111111,
              "#46039f"
             ],
             [
              0.2222222222222222,
              "#7201a8"
             ],
             [
              0.3333333333333333,
              "#9c179e"
             ],
             [
              0.4444444444444444,
              "#bd3786"
             ],
             [
              0.5555555555555556,
              "#d8576b"
             ],
             [
              0.6666666666666666,
              "#ed7953"
             ],
             [
              0.7777777777777778,
              "#fb9f3a"
             ],
             [
              0.8888888888888888,
              "#fdca26"
             ],
             [
              1,
              "#f0f921"
             ]
            ],
            "type": "histogram2dcontour"
           }
          ],
          "mesh3d": [
           {
            "colorbar": {
             "outlinewidth": 0,
             "ticks": ""
            },
            "type": "mesh3d"
           }
          ],
          "parcoords": [
           {
            "line": {
             "colorbar": {
              "outlinewidth": 0,
              "ticks": ""
             }
            },
            "type": "parcoords"
           }
          ],
          "pie": [
           {
            "automargin": true,
            "type": "pie"
           }
          ],
          "scatter": [
           {
            "fillpattern": {
             "fillmode": "overlay",
             "size": 10,
             "solidity": 0.2
            },
            "type": "scatter"
           }
          ],
          "scatter3d": [
           {
            "line": {
             "colorbar": {
              "outlinewidth": 0,
              "ticks": ""
             }
            },
            "marker": {
             "colorbar": {
              "outlinewidth": 0,
              "ticks": ""
             }
            },
            "type": "scatter3d"
           }
          ],
          "scattercarpet": [
           {
            "marker": {
             "colorbar": {
              "outlinewidth": 0,
              "ticks": ""
             }
            },
            "type": "scattercarpet"
           }
          ],
          "scattergeo": [
           {
            "marker": {
             "colorbar": {
              "outlinewidth": 0,
              "ticks": ""
             }
            },
            "type": "scattergeo"
           }
          ],
          "scattergl": [
           {
            "marker": {
             "colorbar": {
              "outlinewidth": 0,
              "ticks": ""
             }
            },
            "type": "scattergl"
           }
          ],
          "scattermapbox": [
           {
            "marker": {
             "colorbar": {
              "outlinewidth": 0,
              "ticks": ""
             }
            },
            "type": "scattermapbox"
           }
          ],
          "scatterpolar": [
           {
            "marker": {
             "colorbar": {
              "outlinewidth": 0,
              "ticks": ""
             }
            },
            "type": "scatterpolar"
           }
          ],
          "scatterpolargl": [
           {
            "marker": {
             "colorbar": {
              "outlinewidth": 0,
              "ticks": ""
             }
            },
            "type": "scatterpolargl"
           }
          ],
          "scatterternary": [
           {
            "marker": {
             "colorbar": {
              "outlinewidth": 0,
              "ticks": ""
             }
            },
            "type": "scatterternary"
           }
          ],
          "surface": [
           {
            "colorbar": {
             "outlinewidth": 0,
             "ticks": ""
            },
            "colorscale": [
             [
              0,
              "#0d0887"
             ],
             [
              0.1111111111111111,
              "#46039f"
             ],
             [
              0.2222222222222222,
              "#7201a8"
             ],
             [
              0.3333333333333333,
              "#9c179e"
             ],
             [
              0.4444444444444444,
              "#bd3786"
             ],
             [
              0.5555555555555556,
              "#d8576b"
             ],
             [
              0.6666666666666666,
              "#ed7953"
             ],
             [
              0.7777777777777778,
              "#fb9f3a"
             ],
             [
              0.8888888888888888,
              "#fdca26"
             ],
             [
              1,
              "#f0f921"
             ]
            ],
            "type": "surface"
           }
          ],
          "table": [
           {
            "cells": {
             "fill": {
              "color": "#EBF0F8"
             },
             "line": {
              "color": "white"
             }
            },
            "header": {
             "fill": {
              "color": "#C8D4E3"
             },
             "line": {
              "color": "white"
             }
            },
            "type": "table"
           }
          ]
         },
         "layout": {
          "annotationdefaults": {
           "arrowcolor": "#2a3f5f",
           "arrowhead": 0,
           "arrowwidth": 1
          },
          "autotypenumbers": "strict",
          "coloraxis": {
           "colorbar": {
            "outlinewidth": 0,
            "ticks": ""
           }
          },
          "colorscale": {
           "diverging": [
            [
             0,
             "#8e0152"
            ],
            [
             0.1,
             "#c51b7d"
            ],
            [
             0.2,
             "#de77ae"
            ],
            [
             0.3,
             "#f1b6da"
            ],
            [
             0.4,
             "#fde0ef"
            ],
            [
             0.5,
             "#f7f7f7"
            ],
            [
             0.6,
             "#e6f5d0"
            ],
            [
             0.7,
             "#b8e186"
            ],
            [
             0.8,
             "#7fbc41"
            ],
            [
             0.9,
             "#4d9221"
            ],
            [
             1,
             "#276419"
            ]
           ],
           "sequential": [
            [
             0,
             "#0d0887"
            ],
            [
             0.1111111111111111,
             "#46039f"
            ],
            [
             0.2222222222222222,
             "#7201a8"
            ],
            [
             0.3333333333333333,
             "#9c179e"
            ],
            [
             0.4444444444444444,
             "#bd3786"
            ],
            [
             0.5555555555555556,
             "#d8576b"
            ],
            [
             0.6666666666666666,
             "#ed7953"
            ],
            [
             0.7777777777777778,
             "#fb9f3a"
            ],
            [
             0.8888888888888888,
             "#fdca26"
            ],
            [
             1,
             "#f0f921"
            ]
           ],
           "sequentialminus": [
            [
             0,
             "#0d0887"
            ],
            [
             0.1111111111111111,
             "#46039f"
            ],
            [
             0.2222222222222222,
             "#7201a8"
            ],
            [
             0.3333333333333333,
             "#9c179e"
            ],
            [
             0.4444444444444444,
             "#bd3786"
            ],
            [
             0.5555555555555556,
             "#d8576b"
            ],
            [
             0.6666666666666666,
             "#ed7953"
            ],
            [
             0.7777777777777778,
             "#fb9f3a"
            ],
            [
             0.8888888888888888,
             "#fdca26"
            ],
            [
             1,
             "#f0f921"
            ]
           ]
          },
          "colorway": [
           "#636efa",
           "#EF553B",
           "#00cc96",
           "#ab63fa",
           "#FFA15A",
           "#19d3f3",
           "#FF6692",
           "#B6E880",
           "#FF97FF",
           "#FECB52"
          ],
          "font": {
           "color": "#2a3f5f"
          },
          "geo": {
           "bgcolor": "white",
           "lakecolor": "white",
           "landcolor": "#E5ECF6",
           "showlakes": true,
           "showland": true,
           "subunitcolor": "white"
          },
          "hoverlabel": {
           "align": "left"
          },
          "hovermode": "closest",
          "mapbox": {
           "style": "light"
          },
          "paper_bgcolor": "white",
          "plot_bgcolor": "#E5ECF6",
          "polar": {
           "angularaxis": {
            "gridcolor": "white",
            "linecolor": "white",
            "ticks": ""
           },
           "bgcolor": "#E5ECF6",
           "radialaxis": {
            "gridcolor": "white",
            "linecolor": "white",
            "ticks": ""
           }
          },
          "scene": {
           "xaxis": {
            "backgroundcolor": "#E5ECF6",
            "gridcolor": "white",
            "gridwidth": 2,
            "linecolor": "white",
            "showbackground": true,
            "ticks": "",
            "zerolinecolor": "white"
           },
           "yaxis": {
            "backgroundcolor": "#E5ECF6",
            "gridcolor": "white",
            "gridwidth": 2,
            "linecolor": "white",
            "showbackground": true,
            "ticks": "",
            "zerolinecolor": "white"
           },
           "zaxis": {
            "backgroundcolor": "#E5ECF6",
            "gridcolor": "white",
            "gridwidth": 2,
            "linecolor": "white",
            "showbackground": true,
            "ticks": "",
            "zerolinecolor": "white"
           }
          },
          "shapedefaults": {
           "line": {
            "color": "#2a3f5f"
           }
          },
          "ternary": {
           "aaxis": {
            "gridcolor": "white",
            "linecolor": "white",
            "ticks": ""
           },
           "baxis": {
            "gridcolor": "white",
            "linecolor": "white",
            "ticks": ""
           },
           "bgcolor": "#E5ECF6",
           "caxis": {
            "gridcolor": "white",
            "linecolor": "white",
            "ticks": ""
           }
          },
          "title": {
           "x": 0.05
          },
          "xaxis": {
           "automargin": true,
           "gridcolor": "white",
           "linecolor": "white",
           "ticks": "",
           "title": {
            "standoff": 15
           },
           "zerolinecolor": "white",
           "zerolinewidth": 2
          },
          "yaxis": {
           "automargin": true,
           "gridcolor": "white",
           "linecolor": "white",
           "ticks": "",
           "title": {
            "standoff": 15
           },
           "zerolinecolor": "white",
           "zerolinewidth": 2
          }
         }
        },
        "title": {
         "text": "Treemap of Top 20 Supercategories under \"Parks\""
        }
       }
      },
      "text/html": [
       "<div>                            <div id=\"8f94236b-63ca-4d39-9215-e90e7bf5c7bd\" class=\"plotly-graph-div\" style=\"height:525px; width:100%;\"></div>            <script type=\"text/javascript\">                require([\"plotly\"], function(Plotly) {                    window.PLOTLYENV=window.PLOTLYENV || {};                                    if (document.getElementById(\"8f94236b-63ca-4d39-9215-e90e7bf5c7bd\")) {                    Plotly.newPlot(                        \"8f94236b-63ca-4d39-9215-e90e7bf5c7bd\",                        [{\"branchvalues\":\"total\",\"customdata\":[[20.0],[12.0],[30.0],[25.0],[18.0],[70.0],[60.0],[8.0],[80.0],[4.0],[10.0],[40.0],[50.0],[35.0],[100.0],[90.0],[16.0],[14.0],[6.0],[45.0],[59.2237380627558]],\"domain\":{\"x\":[0.0,1.0],\"y\":[0.0,1.0]},\"hovertemplate\":\"labels=%{label}\\u003cbr\\u003ecounts_sum=%{value}\\u003cbr\\u003eparent=%{parent}\\u003cbr\\u003eid=%{id}\\u003cbr\\u003ecounts=%{color}\\u003cextra\\u003e\\u003c\\u002fextra\\u003e\",\"ids\":[\"parks\\u002fArizona state park\",\"parks\\u002fCalifornia state park\",\"parks\\u002fNaturschutzgebiet\",\"parks\\u002fOregon state park\",\"parks\\u002fUnited States National Grassland\",\"parks\\u002fWashington state park\",\"parks\\u002fWisconsin state park\",\"parks\\u002fcounty park\",\"parks\\u002fnational park\",\"parks\\u002fnational park of Canada\",\"parks\\u002fnatural region\",\"parks\\u002fnature park\",\"parks\\u002fnature reserve\",\"parks\\u002fnature reserve in the Czech Republic\",\"parks\\u002fpark\",\"parks\\u002fprotected area\",\"parks\\u002fprovincial park of Canada (designation)\",\"parks\\u002fregional park\",\"parks\\u002ftransboundary protected area\",\"parks\\u002furban park\",\"parks\"],\"labels\":[\"Arizona state park\",\"California state park\",\"Naturschutzgebiet\",\"Oregon state park\",\"United States National Grassland\",\"Washington state park\",\"Wisconsin state park\",\"county park\",\"national park\",\"national park of Canada\",\"natural region\",\"nature park\",\"nature reserve\",\"nature reserve in the Czech Republic\",\"park\",\"protected area\",\"provincial park of Canada (designation)\",\"regional park\",\"transboundary protected area\",\"urban park\",\"parks\"],\"marker\":{\"coloraxis\":\"coloraxis\",\"colors\":[20.0,12.0,30.0,25.0,18.0,70.0,60.0,8.0,80.0,4.0,10.0,40.0,50.0,35.0,100.0,90.0,16.0,14.0,6.0,45.0,59.2237380627558]},\"name\":\"\",\"parents\":[\"parks\",\"parks\",\"parks\",\"parks\",\"parks\",\"parks\",\"parks\",\"parks\",\"parks\",\"parks\",\"parks\",\"parks\",\"parks\",\"parks\",\"parks\",\"parks\",\"parks\",\"parks\",\"parks\",\"parks\",\"\"],\"values\":[20,12,30,25,18,70,60,8,80,4,10,40,50,35,100,90,16,14,6,45,733],\"type\":\"treemap\",\"textinfo\":\"label+value+percent parent\"}],                        {\"template\":{\"data\":{\"histogram2dcontour\":[{\"type\":\"histogram2dcontour\",\"colorbar\":{\"outlinewidth\":0,\"ticks\":\"\"},\"colorscale\":[[0.0,\"#0d0887\"],[0.1111111111111111,\"#46039f\"],[0.2222222222222222,\"#7201a8\"],[0.3333333333333333,\"#9c179e\"],[0.4444444444444444,\"#bd3786\"],[0.5555555555555556,\"#d8576b\"],[0.6666666666666666,\"#ed7953\"],[0.7777777777777778,\"#fb9f3a\"],[0.8888888888888888,\"#fdca26\"],[1.0,\"#f0f921\"]]}],\"choropleth\":[{\"type\":\"choropleth\",\"colorbar\":{\"outlinewidth\":0,\"ticks\":\"\"}}],\"histogram2d\":[{\"type\":\"histogram2d\",\"colorbar\":{\"outlinewidth\":0,\"ticks\":\"\"},\"colorscale\":[[0.0,\"#0d0887\"],[0.1111111111111111,\"#46039f\"],[0.2222222222222222,\"#7201a8\"],[0.3333333333333333,\"#9c179e\"],[0.4444444444444444,\"#bd3786\"],[0.5555555555555556,\"#d8576b\"],[0.6666666666666666,\"#ed7953\"],[0.7777777777777778,\"#fb9f3a\"],[0.8888888888888888,\"#fdca26\"],[1.0,\"#f0f921\"]]}],\"heatmap\":[{\"type\":\"heatmap\",\"colorbar\":{\"outlinewidth\":0,\"ticks\":\"\"},\"colorscale\":[[0.0,\"#0d0887\"],[0.1111111111111111,\"#46039f\"],[0.2222222222222222,\"#7201a8\"],[0.3333333333333333,\"#9c179e\"],[0.4444444444444444,\"#bd3786\"],[0.5555555555555556,\"#d8576b\"],[0.6666666666666666,\"#ed7953\"],[0.7777777777777778,\"#fb9f3a\"],[0.8888888888888888,\"#fdca26\"],[1.0,\"#f0f921\"]]}],\"heatmapgl\":[{\"type\":\"heatmapgl\",\"colorbar\":{\"outlinewidth\":0,\"ticks\":\"\"},\"colorscale\":[[0.0,\"#0d0887\"],[0.1111111111111111,\"#46039f\"],[0.2222222222222222,\"#7201a8\"],[0.3333333333333333,\"#9c179e\"],[0.4444444444444444,\"#bd3786\"],[0.5555555555555556,\"#d8576b\"],[0.6666666666666666,\"#ed7953\"],[0.7777777777777778,\"#fb9f3a\"],[0.8888888888888888,\"#fdca26\"],[1.0,\"#f0f921\"]]}],\"contourcarpet\":[{\"type\":\"contourcarpet\",\"colorbar\":{\"outlinewidth\":0,\"ticks\":\"\"}}],\"contour\":[{\"type\":\"contour\",\"colorbar\":{\"outlinewidth\":0,\"ticks\":\"\"},\"colorscale\":[[0.0,\"#0d0887\"],[0.1111111111111111,\"#46039f\"],[0.2222222222222222,\"#7201a8\"],[0.3333333333333333,\"#9c179e\"],[0.4444444444444444,\"#bd3786\"],[0.5555555555555556,\"#d8576b\"],[0.6666666666666666,\"#ed7953\"],[0.7777777777777778,\"#fb9f3a\"],[0.8888888888888888,\"#fdca26\"],[1.0,\"#f0f921\"]]}],\"surface\":[{\"type\":\"surface\",\"colorbar\":{\"outlinewidth\":0,\"ticks\":\"\"},\"colorscale\":[[0.0,\"#0d0887\"],[0.1111111111111111,\"#46039f\"],[0.2222222222222222,\"#7201a8\"],[0.3333333333333333,\"#9c179e\"],[0.4444444444444444,\"#bd3786\"],[0.5555555555555556,\"#d8576b\"],[0.6666666666666666,\"#ed7953\"],[0.7777777777777778,\"#fb9f3a\"],[0.8888888888888888,\"#fdca26\"],[1.0,\"#f0f921\"]]}],\"mesh3d\":[{\"type\":\"mesh3d\",\"colorbar\":{\"outlinewidth\":0,\"ticks\":\"\"}}],\"scatter\":[{\"fillpattern\":{\"fillmode\":\"overlay\",\"size\":10,\"solidity\":0.2},\"type\":\"scatter\"}],\"parcoords\":[{\"type\":\"parcoords\",\"line\":{\"colorbar\":{\"outlinewidth\":0,\"ticks\":\"\"}}}],\"scatterpolargl\":[{\"type\":\"scatterpolargl\",\"marker\":{\"colorbar\":{\"outlinewidth\":0,\"ticks\":\"\"}}}],\"bar\":[{\"error_x\":{\"color\":\"#2a3f5f\"},\"error_y\":{\"color\":\"#2a3f5f\"},\"marker\":{\"line\":{\"color\":\"#E5ECF6\",\"width\":0.5},\"pattern\":{\"fillmode\":\"overlay\",\"size\":10,\"solidity\":0.2}},\"type\":\"bar\"}],\"scattergeo\":[{\"type\":\"scattergeo\",\"marker\":{\"colorbar\":{\"outlinewidth\":0,\"ticks\":\"\"}}}],\"scatterpolar\":[{\"type\":\"scatterpolar\",\"marker\":{\"colorbar\":{\"outlinewidth\":0,\"ticks\":\"\"}}}],\"histogram\":[{\"marker\":{\"pattern\":{\"fillmode\":\"overlay\",\"size\":10,\"solidity\":0.2}},\"type\":\"histogram\"}],\"scattergl\":[{\"type\":\"scattergl\",\"marker\":{\"colorbar\":{\"outlinewidth\":0,\"ticks\":\"\"}}}],\"scatter3d\":[{\"type\":\"scatter3d\",\"line\":{\"colorbar\":{\"outlinewidth\":0,\"ticks\":\"\"}},\"marker\":{\"colorbar\":{\"outlinewidth\":0,\"ticks\":\"\"}}}],\"scattermapbox\":[{\"type\":\"scattermapbox\",\"marker\":{\"colorbar\":{\"outlinewidth\":0,\"ticks\":\"\"}}}],\"scatterternary\":[{\"type\":\"scatterternary\",\"marker\":{\"colorbar\":{\"outlinewidth\":0,\"ticks\":\"\"}}}],\"scattercarpet\":[{\"type\":\"scattercarpet\",\"marker\":{\"colorbar\":{\"outlinewidth\":0,\"ticks\":\"\"}}}],\"carpet\":[{\"aaxis\":{\"endlinecolor\":\"#2a3f5f\",\"gridcolor\":\"white\",\"linecolor\":\"white\",\"minorgridcolor\":\"white\",\"startlinecolor\":\"#2a3f5f\"},\"baxis\":{\"endlinecolor\":\"#2a3f5f\",\"gridcolor\":\"white\",\"linecolor\":\"white\",\"minorgridcolor\":\"white\",\"startlinecolor\":\"#2a3f5f\"},\"type\":\"carpet\"}],\"table\":[{\"cells\":{\"fill\":{\"color\":\"#EBF0F8\"},\"line\":{\"color\":\"white\"}},\"header\":{\"fill\":{\"color\":\"#C8D4E3\"},\"line\":{\"color\":\"white\"}},\"type\":\"table\"}],\"barpolar\":[{\"marker\":{\"line\":{\"color\":\"#E5ECF6\",\"width\":0.5},\"pattern\":{\"fillmode\":\"overlay\",\"size\":10,\"solidity\":0.2}},\"type\":\"barpolar\"}],\"pie\":[{\"automargin\":true,\"type\":\"pie\"}]},\"layout\":{\"autotypenumbers\":\"strict\",\"colorway\":[\"#636efa\",\"#EF553B\",\"#00cc96\",\"#ab63fa\",\"#FFA15A\",\"#19d3f3\",\"#FF6692\",\"#B6E880\",\"#FF97FF\",\"#FECB52\"],\"font\":{\"color\":\"#2a3f5f\"},\"hovermode\":\"closest\",\"hoverlabel\":{\"align\":\"left\"},\"paper_bgcolor\":\"white\",\"plot_bgcolor\":\"#E5ECF6\",\"polar\":{\"bgcolor\":\"#E5ECF6\",\"angularaxis\":{\"gridcolor\":\"white\",\"linecolor\":\"white\",\"ticks\":\"\"},\"radialaxis\":{\"gridcolor\":\"white\",\"linecolor\":\"white\",\"ticks\":\"\"}},\"ternary\":{\"bgcolor\":\"#E5ECF6\",\"aaxis\":{\"gridcolor\":\"white\",\"linecolor\":\"white\",\"ticks\":\"\"},\"baxis\":{\"gridcolor\":\"white\",\"linecolor\":\"white\",\"ticks\":\"\"},\"caxis\":{\"gridcolor\":\"white\",\"linecolor\":\"white\",\"ticks\":\"\"}},\"coloraxis\":{\"colorbar\":{\"outlinewidth\":0,\"ticks\":\"\"}},\"colorscale\":{\"sequential\":[[0.0,\"#0d0887\"],[0.1111111111111111,\"#46039f\"],[0.2222222222222222,\"#7201a8\"],[0.3333333333333333,\"#9c179e\"],[0.4444444444444444,\"#bd3786\"],[0.5555555555555556,\"#d8576b\"],[0.6666666666666666,\"#ed7953\"],[0.7777777777777778,\"#fb9f3a\"],[0.8888888888888888,\"#fdca26\"],[1.0,\"#f0f921\"]],\"sequentialminus\":[[0.0,\"#0d0887\"],[0.1111111111111111,\"#46039f\"],[0.2222222222222222,\"#7201a8\"],[0.3333333333333333,\"#9c179e\"],[0.4444444444444444,\"#bd3786\"],[0.5555555555555556,\"#d8576b\"],[0.6666666666666666,\"#ed7953\"],[0.7777777777777778,\"#fb9f3a\"],[0.8888888888888888,\"#fdca26\"],[1.0,\"#f0f921\"]],\"diverging\":[[0,\"#8e0152\"],[0.1,\"#c51b7d\"],[0.2,\"#de77ae\"],[0.3,\"#f1b6da\"],[0.4,\"#fde0ef\"],[0.5,\"#f7f7f7\"],[0.6,\"#e6f5d0\"],[0.7,\"#b8e186\"],[0.8,\"#7fbc41\"],[0.9,\"#4d9221\"],[1,\"#276419\"]]},\"xaxis\":{\"gridcolor\":\"white\",\"linecolor\":\"white\",\"ticks\":\"\",\"title\":{\"standoff\":15},\"zerolinecolor\":\"white\",\"automargin\":true,\"zerolinewidth\":2},\"yaxis\":{\"gridcolor\":\"white\",\"linecolor\":\"white\",\"ticks\":\"\",\"title\":{\"standoff\":15},\"zerolinecolor\":\"white\",\"automargin\":true,\"zerolinewidth\":2},\"scene\":{\"xaxis\":{\"backgroundcolor\":\"#E5ECF6\",\"gridcolor\":\"white\",\"linecolor\":\"white\",\"showbackground\":true,\"ticks\":\"\",\"zerolinecolor\":\"white\",\"gridwidth\":2},\"yaxis\":{\"backgroundcolor\":\"#E5ECF6\",\"gridcolor\":\"white\",\"linecolor\":\"white\",\"showbackground\":true,\"ticks\":\"\",\"zerolinecolor\":\"white\",\"gridwidth\":2},\"zaxis\":{\"backgroundcolor\":\"#E5ECF6\",\"gridcolor\":\"white\",\"linecolor\":\"white\",\"showbackground\":true,\"ticks\":\"\",\"zerolinecolor\":\"white\",\"gridwidth\":2}},\"shapedefaults\":{\"line\":{\"color\":\"#2a3f5f\"}},\"annotationdefaults\":{\"arrowcolor\":\"#2a3f5f\",\"arrowhead\":0,\"arrowwidth\":1},\"geo\":{\"bgcolor\":\"white\",\"landcolor\":\"#E5ECF6\",\"subunitcolor\":\"white\",\"showland\":true,\"showlakes\":true,\"lakecolor\":\"white\"},\"title\":{\"x\":0.05},\"mapbox\":{\"style\":\"light\"}}},\"coloraxis\":{\"colorbar\":{\"title\":{\"text\":\"counts\"}},\"colorscale\":[[0.0,\"rgb(103,0,31)\"],[0.1,\"rgb(178,24,43)\"],[0.2,\"rgb(214,96,77)\"],[0.3,\"rgb(244,165,130)\"],[0.4,\"rgb(253,219,199)\"],[0.5,\"rgb(247,247,247)\"],[0.6,\"rgb(209,229,240)\"],[0.7,\"rgb(146,197,222)\"],[0.8,\"rgb(67,147,195)\"],[0.9,\"rgb(33,102,172)\"],[1.0,\"rgb(5,48,97)\"]]},\"legend\":{\"tracegroupgap\":0},\"title\":{\"text\":\"Treemap of Top 20 Supercategories under \\\"Parks\\\"\"},\"margin\":{\"t\":50,\"l\":25,\"r\":25,\"b\":25}},                        {\"responsive\": true}                    ).then(function(){\n",
       "                            \n",
       "var gd = document.getElementById('8f94236b-63ca-4d39-9215-e90e7bf5c7bd');\n",
       "var x = new MutationObserver(function (mutations, observer) {{\n",
       "        var display = window.getComputedStyle(gd).display;\n",
       "        if (!display || display === 'none') {{\n",
       "            console.log([gd, 'removed!']);\n",
       "            Plotly.purge(gd);\n",
       "            observer.disconnect();\n",
       "        }}\n",
       "}});\n",
       "\n",
       "// Listen for the removal of the full notebook cells\n",
       "var notebookContainer = gd.closest('#notebook-container');\n",
       "if (notebookContainer) {{\n",
       "    x.observe(notebookContainer, {childList: true});\n",
       "}}\n",
       "\n",
       "// Listen for the clearing of the current output cell\n",
       "var outputEl = gd.closest('.output');\n",
       "if (outputEl) {{\n",
       "    x.observe(outputEl, {childList: true});\n",
       "}}\n",
       "\n",
       "                        })                };                });            </script>        </div>"
      ]
     },
     "metadata": {},
     "output_type": "display_data"
    }
   ],
   "source": [
    "import plotly.express as px\n",
    "\n",
    "# Hardcoded data for the top 20 supercategories for 'parks'\n",
    "data = {\n",
    "    'supercategory': [\n",
    "        'park', 'protected area', 'national park', 'Washington state park',\n",
    "        'Wisconsin state park', 'nature reserve', 'urban park', 'nature park',\n",
    "        'nature reserve in the Czech Republic', 'Naturschutzgebiet',\n",
    "        'Oregon state park', 'Arizona state park',\n",
    "        'United States National Grassland', 'provincial park of Canada (designation)',\n",
    "        'regional park', 'California state park', 'natural region', 'county park',\n",
    "        'transboundary protected area', 'national park of Canada'\n",
    "    ],\n",
    "    'counts': [100, 90, 80, 70, 60, 50, 45, 40, 35, 30, 25, 20, 18, 16, 14, 12, 10, 8, 6, 4]  # Example counts\n",
    "}\n",
    "\n",
    "# Create a DataFrame\n",
    "df = pd.DataFrame(data)\n",
    "\n",
    "# Generate a treemap\n",
    "fig = px.treemap(\n",
    "    df,\n",
    "    path=[px.Constant('parks'), 'supercategory'],\n",
    "    values='counts',\n",
    "    title='Treemap of Top 20 Supercategories under \"Parks\"',\n",
    "    color='counts',\n",
    "    color_continuous_scale='RdBu'\n",
    ")\n",
    "fig.update_layout(margin=dict(t=50, l=25, r=25, b=25))\n",
    "fig.update_traces(textinfo='label+value+percent parent')\n",
    "fig.show()\n"
   ]
  },
  {
   "cell_type": "code",
   "execution_count": null,
   "id": "97879a3b-f030-455c-92da-a7e54eaf1df6",
   "metadata": {},
   "outputs": [],
   "source": []
  }
 ],
 "metadata": {
  "kernelspec": {
   "display_name": "Python 3 (ipykernel)",
   "language": "python",
   "name": "python3"
  },
  "language_info": {
   "codemirror_mode": {
    "name": "ipython",
    "version": 3
   },
   "file_extension": ".py",
   "mimetype": "text/x-python",
   "name": "python",
   "nbconvert_exporter": "python",
   "pygments_lexer": "ipython3",
   "version": "3.10.3"
  }
 },
 "nbformat": 4,
 "nbformat_minor": 5
}
